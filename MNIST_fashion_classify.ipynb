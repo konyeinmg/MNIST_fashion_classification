{
 "cells": [
  {
   "cell_type": "code",
   "execution_count": 1,
   "id": "16729408-5d0e-47b4-b0c2-bebfb4bc309b",
   "metadata": {},
   "outputs": [
    {
     "name": "stderr",
     "output_type": "stream",
     "text": [
      "2023-10-17 17:32:57.597517: I tensorflow/tsl/cuda/cudart_stub.cc:28] Could not find cuda drivers on your machine, GPU will not be used.\n",
      "2023-10-17 17:33:01.221568: I tensorflow/tsl/cuda/cudart_stub.cc:28] Could not find cuda drivers on your machine, GPU will not be used.\n",
      "2023-10-17 17:33:01.225572: I tensorflow/core/platform/cpu_feature_guard.cc:182] This TensorFlow binary is optimized to use available CPU instructions in performance-critical operations.\n",
      "To enable the following instructions: AVX2 FMA, in other operations, rebuild TensorFlow with the appropriate compiler flags.\n",
      "2023-10-17 17:33:25.381672: W tensorflow/compiler/tf2tensorrt/utils/py_utils.cc:38] TF-TRT Warning: Could not find TensorRT\n"
     ]
    }
   ],
   "source": [
    "import tensorflow as tf\n",
    "from tensorflow import keras\n",
    "import numpy as np\n",
    "import matplotlib.pyplot as plt"
   ]
  },
  {
   "cell_type": "code",
   "execution_count": 2,
   "id": "fc70451a-a4d1-4331-80d5-2675fd63930d",
   "metadata": {},
   "outputs": [],
   "source": [
    "fashion = keras.datasets.fashion_mnist\n",
    "(xtrain, ytrain), (xtest, ytest) = fashion.load_data()"
   ]
  },
  {
   "cell_type": "markdown",
   "id": "c52c7896-d9e2-48fd-8e8a-113574b02ad9",
   "metadata": {},
   "source": [
    "<h3>Labels</h3>\n",
    "0 T-shirt/top<br/>\n",
    "1 Trouser<br/>\n",
    "2 Pullover<br/>\n",
    "3 Dress<br/>\n",
    "4 Coat<br/>\n",
    "5 Sandal<br/>\n",
    "6 Shirt<br/>\n",
    "7 Sneaker<br/>\n",
    "8 Bag<br/>\n",
    "9 Ankle boot"
   ]
  },
  {
   "cell_type": "code",
   "execution_count": 3,
   "id": "696832e9-150d-440f-92f0-75c0618faf8c",
   "metadata": {},
   "outputs": [
    {
     "name": "stdout",
     "output_type": "stream",
     "text": [
      "Image label :  5\n"
     ]
    },
    {
     "data": {
      "text/plain": [
       "<matplotlib.image.AxesImage at 0x7fd898183f10>"
      ]
     },
     "execution_count": 3,
     "metadata": {},
     "output_type": "execute_result"
    },
    {
     "data": {
      "image/png": "[encoded data removed]",
      "text/plain": [
       "<Figure size 640x480 with 1 Axes>"
      ]
     },
     "metadata": {},
     "output_type": "display_data"
    }
   ],
   "source": [
    "index = 8\n",
    "image = xtrain[index]\n",
    "print('Image label : ', ytrain[index])\n",
    "plt.imshow(image)"
   ]
  },
  {
   "cell_type": "code",
   "execution_count": 4,
   "id": "da886661-e9ce-4243-afc4-860da0f9af82",
   "metadata": {},
   "outputs": [
    {
     "name": "stdout",
     "output_type": "stream",
     "text": [
      "(60000, 28, 28)\n",
      "(10000, 28, 28)\n"
     ]
    }
   ],
   "source": [
    "print(xtrain.shape)\n",
    "print(xtest.shape)"
   ]
  },
  {
   "cell_type": "markdown",
   "id": "2630efd5-f71a-48a3-b934-f2eaa1b39e43",
   "metadata": {},
   "source": [
    "<h3>Models</h3>"
   ]
  },
  {
   "cell_type": "code",
   "execution_count": 5,
   "id": "e42596d3-807b-46b2-9ae0-634db215dab1",
   "metadata": {},
   "outputs": [
    {
     "name": "stdout",
     "output_type": "stream",
     "text": [
      "Model: \"sequential\"\n",
      "_________________________________________________________________\n",
      " Layer (type)                Output Shape              Param #   \n",
      "=================================================================\n",
      " flatten (Flatten)           (None, 784)               0         \n",
      "                                                                 \n",
      " dense (Dense)               (None, 300)               235500    \n",
      "                                                                 \n",
      " dense_1 (Dense)             (None, 100)               30100     \n",
      "                                                                 \n",
      " dense_2 (Dense)             (None, 10)                1010      \n",
      "                                                                 \n",
      "=================================================================\n",
      "Total params: 266610 (1.02 MB)\n",
      "Trainable params: 266610 (1.02 MB)\n",
      "Non-trainable params: 0 (0.00 Byte)\n",
      "_________________________________________________________________\n",
      "None\n"
     ]
    }
   ],
   "source": [
    "model1 = keras.models.Sequential([\n",
    "    keras.layers.Flatten(input_shape=[28,28]),\n",
    "    keras.layers.Dense(300, activation = 'relu'),\n",
    "    keras.layers.Dense(100, activation = 'relu'),\n",
    "    keras.layers.Dense(10, activation = 'softmax')\n",
    "])\n",
    "print(model1.summary())"
   ]
  },
  {
   "cell_type": "code",
   "execution_count": 6,
   "id": "54892f91-712a-41ea-8388-7c0d69d01f0c",
   "metadata": {},
   "outputs": [
    {
     "name": "stdout",
     "output_type": "stream",
     "text": [
      "Model: \"sequential_1\"\n",
      "_________________________________________________________________\n",
      " Layer (type)                Output Shape              Param #   \n",
      "=================================================================\n",
      " flatten_1 (Flatten)         (None, 784)               0         \n",
      "                                                                 \n",
      " dense_3 (Dense)             (None, 500)               392500    \n",
      "                                                                 \n",
      " dense_4 (Dense)             (None, 250)               125250    \n",
      "                                                                 \n",
      " dense_5 (Dense)             (None, 150)               37650     \n",
      "                                                                 \n",
      " dense_6 (Dense)             (None, 10)                1510      \n",
      "                                                                 \n",
      "=================================================================\n",
      "Total params: 556910 (2.12 MB)\n",
      "Trainable params: 556910 (2.12 MB)\n",
      "Non-trainable params: 0 (0.00 Byte)\n",
      "_________________________________________________________________\n",
      "None\n"
     ]
    }
   ],
   "source": [
    "model2 = keras.models.Sequential([\n",
    "    keras.layers.Flatten(input_shape = [28, 28]),\n",
    "    keras.layers.Dense(500, activation = 'relu'),\n",
    "    keras.layers.Dense(250, activation = 'relu'),\n",
    "    keras.layers.Dense(150, activation = 'relu'),\n",
    "    keras.layers.Dense(10, activation = 'softmax')\n",
    "])\n",
    "print(model2.summary())"
   ]
  },
  {
   "cell_type": "markdown",
   "id": "a3eb0378-95dc-47b0-bec2-7eae5f07746b",
   "metadata": {},
   "source": [
    "<h3>Validation and train</h3>"
   ]
  },
  {
   "cell_type": "code",
   "execution_count": 7,
   "id": "926b036b-047f-4d94-9902-56ce847eace7",
   "metadata": {},
   "outputs": [],
   "source": [
    "xvalid, xtrain = xtrain[:5000]/255.0, xtrain[5000:]/255.0\n",
    "yvalid, ytrain = ytrain[:5000], ytrain[5000:]"
   ]
  },
  {
   "cell_type": "code",
   "execution_count": 8,
   "id": "19a4d579-c345-4089-9352-1b574c9c182f",
   "metadata": {},
   "outputs": [
    {
     "name": "stdout",
     "output_type": "stream",
     "text": [
      "Image label :  3\n"
     ]
    },
    {
     "data": {
      "text/plain": [
       "<matplotlib.image.AxesImage at 0x7fd890045bb0>"
      ]
     },
     "execution_count": 8,
     "metadata": {},
     "output_type": "execute_result"
    },
    {
     "data": {
      "image/png": "[encoded data removed]",
      "text/plain": [
       "<Figure size 640x480 with 1 Axes>"
      ]
     },
     "metadata": {},
     "output_type": "display_data"
    }
   ],
   "source": [
    "index = 8\n",
    "image = xtrain[index]\n",
    "print('Image label : ', ytrain[index])\n",
    "plt.imshow(image)"
   ]
  },
  {
   "cell_type": "markdown",
   "id": "83bbee44-e15a-41a0-8026-92dbb07fc269",
   "metadata": {},
   "source": [
    "<h3>Train Models</h3>"
   ]
  },
  {
   "cell_type": "code",
   "execution_count": 9,
   "id": "586adfb1-3bfe-4136-8976-73b95012dc6e",
   "metadata": {
    "scrolled": true
   },
   "outputs": [
    {
     "name": "stdout",
     "output_type": "stream",
     "text": [
      "Epoch 1/30\n",
      "1719/1719 [==============================] - 10s 5ms/step - loss: 0.7111 - accuracy: 0.7650 - val_loss: 0.5005 - val_accuracy: 0.8394\n",
      "Epoch 2/30\n",
      "1719/1719 [==============================] - 8s 5ms/step - loss: 0.4859 - accuracy: 0.8294 - val_loss: 0.4547 - val_accuracy: 0.8434\n",
      "Epoch 3/30\n",
      "1719/1719 [==============================] - 9s 5ms/step - loss: 0.4427 - accuracy: 0.8442 - val_loss: 0.4185 - val_accuracy: 0.8540\n",
      "Epoch 4/30\n",
      "1719/1719 [==============================] - 9s 5ms/step - loss: 0.4164 - accuracy: 0.8542 - val_loss: 0.4293 - val_accuracy: 0.8440\n",
      "Epoch 5/30\n",
      "1719/1719 [==============================] - 12s 7ms/step - loss: 0.3958 - accuracy: 0.8622 - val_loss: 0.3865 - val_accuracy: 0.8664\n",
      "Epoch 6/30\n",
      "1719/1719 [==============================] - 8s 5ms/step - loss: 0.3826 - accuracy: 0.8647 - val_loss: 0.3732 - val_accuracy: 0.8702\n",
      "Epoch 7/30\n",
      "1719/1719 [==============================] - 8s 5ms/step - loss: 0.3693 - accuracy: 0.8692 - val_loss: 0.3620 - val_accuracy: 0.8740\n",
      "Epoch 8/30\n",
      "1719/1719 [==============================] - 8s 5ms/step - loss: 0.3576 - accuracy: 0.8739 - val_loss: 0.3519 - val_accuracy: 0.8760\n",
      "Epoch 9/30\n",
      "1719/1719 [==============================] - 8s 5ms/step - loss: 0.3466 - accuracy: 0.8761 - val_loss: 0.3769 - val_accuracy: 0.8664\n",
      "Epoch 10/30\n",
      "1719/1719 [==============================] - 9s 5ms/step - loss: 0.3382 - accuracy: 0.8809 - val_loss: 0.3524 - val_accuracy: 0.8750\n",
      "Epoch 11/30\n",
      "1719/1719 [==============================] - 11s 6ms/step - loss: 0.3286 - accuracy: 0.8839 - val_loss: 0.3391 - val_accuracy: 0.8824\n",
      "Epoch 12/30\n",
      "1719/1719 [==============================] - 10s 6ms/step - loss: 0.3205 - accuracy: 0.8862 - val_loss: 0.3411 - val_accuracy: 0.8822\n",
      "Epoch 13/30\n",
      "1719/1719 [==============================] - 7s 4ms/step - loss: 0.3126 - accuracy: 0.8884 - val_loss: 0.3284 - val_accuracy: 0.8840\n",
      "Epoch 14/30\n",
      "1719/1719 [==============================] - 7s 4ms/step - loss: 0.3063 - accuracy: 0.8899 - val_loss: 0.3388 - val_accuracy: 0.8832\n",
      "Epoch 15/30\n",
      "1719/1719 [==============================] - 7s 4ms/step - loss: 0.2988 - accuracy: 0.8927 - val_loss: 0.3231 - val_accuracy: 0.8836\n",
      "Epoch 16/30\n",
      "1719/1719 [==============================] - 8s 5ms/step - loss: 0.2929 - accuracy: 0.8948 - val_loss: 0.3159 - val_accuracy: 0.8912\n",
      "Epoch 17/30\n",
      "1719/1719 [==============================] - 9s 5ms/step - loss: 0.2878 - accuracy: 0.8971 - val_loss: 0.3294 - val_accuracy: 0.8836\n",
      "Epoch 18/30\n",
      "1719/1719 [==============================] - 8s 5ms/step - loss: 0.2808 - accuracy: 0.8984 - val_loss: 0.3364 - val_accuracy: 0.8766\n",
      "Epoch 19/30\n",
      "1719/1719 [==============================] - 8s 5ms/step - loss: 0.2753 - accuracy: 0.9005 - val_loss: 0.3140 - val_accuracy: 0.8880\n",
      "Epoch 20/30\n",
      "1719/1719 [==============================] - 9s 5ms/step - loss: 0.2705 - accuracy: 0.9018 - val_loss: 0.3206 - val_accuracy: 0.8860\n",
      "Epoch 21/30\n",
      "1719/1719 [==============================] - 8s 5ms/step - loss: 0.2663 - accuracy: 0.9039 - val_loss: 0.3079 - val_accuracy: 0.8900\n",
      "Epoch 22/30\n",
      "1719/1719 [==============================] - 9s 5ms/step - loss: 0.2610 - accuracy: 0.9053 - val_loss: 0.3088 - val_accuracy: 0.8858\n",
      "Epoch 23/30\n",
      "1719/1719 [==============================] - 7s 4ms/step - loss: 0.2560 - accuracy: 0.9082 - val_loss: 0.3096 - val_accuracy: 0.8876\n",
      "Epoch 24/30\n",
      "1719/1719 [==============================] - 7s 4ms/step - loss: 0.2529 - accuracy: 0.9093 - val_loss: 0.3061 - val_accuracy: 0.8886\n",
      "Epoch 25/30\n",
      "1719/1719 [==============================] - 8s 5ms/step - loss: 0.2480 - accuracy: 0.9109 - val_loss: 0.3040 - val_accuracy: 0.8882\n",
      "Epoch 26/30\n",
      "1719/1719 [==============================] - 9s 5ms/step - loss: 0.2430 - accuracy: 0.9123 - val_loss: 0.3183 - val_accuracy: 0.8844\n",
      "Epoch 27/30\n",
      "1719/1719 [==============================] - 8s 5ms/step - loss: 0.2395 - accuracy: 0.9142 - val_loss: 0.3012 - val_accuracy: 0.8898\n",
      "Epoch 28/30\n",
      "1719/1719 [==============================] - 10s 6ms/step - loss: 0.2352 - accuracy: 0.9156 - val_loss: 0.3004 - val_accuracy: 0.8962\n",
      "Epoch 29/30\n",
      "1719/1719 [==============================] - 9s 5ms/step - loss: 0.2317 - accuracy: 0.9171 - val_loss: 0.2924 - val_accuracy: 0.8956\n",
      "Epoch 30/30\n",
      "1719/1719 [==============================] - 8s 5ms/step - loss: 0.2272 - accuracy: 0.9183 - val_loss: 0.3191 - val_accuracy: 0.8880\n"
     ]
    }
   ],
   "source": [
    "model1.compile(loss = 'sparse_categorical_crossentropy',\n",
    "               optimizer = 'sgd',\n",
    "               metrics = ['accuracy'])\n",
    "history = model1.fit(xtrain, ytrain, epochs = 30, validation_data = (xvalid, yvalid))"
   ]
  },
  {
   "cell_type": "code",
   "execution_count": 10,
   "id": "1a66fd7e-8e4d-4a93-99bb-2cbd201747dc",
   "metadata": {
    "scrolled": true
   },
   "outputs": [
    {
     "name": "stdout",
     "output_type": "stream",
     "text": [
      "Epoch 1/20\n",
      "1719/1719 [==============================] - 20s 11ms/step - loss: 0.4856 - accuracy: 0.8230 - val_loss: 0.3780 - val_accuracy: 0.8634\n",
      "Epoch 2/20\n",
      "1719/1719 [==============================] - 16s 9ms/step - loss: 0.3677 - accuracy: 0.8646 - val_loss: 0.3366 - val_accuracy: 0.8740\n",
      "Epoch 3/20\n",
      "1719/1719 [==============================] - 18s 11ms/step - loss: 0.3307 - accuracy: 0.8782 - val_loss: 0.3331 - val_accuracy: 0.8724\n",
      "Epoch 4/20\n",
      "1719/1719 [==============================] - 19s 11ms/step - loss: 0.3082 - accuracy: 0.8849 - val_loss: 0.3207 - val_accuracy: 0.8868\n",
      "Epoch 5/20\n",
      "1719/1719 [==============================] - 19s 11ms/step - loss: 0.2889 - accuracy: 0.8931 - val_loss: 0.3005 - val_accuracy: 0.8894\n",
      "Epoch 6/20\n",
      "1719/1719 [==============================] - 17s 10ms/step - loss: 0.2734 - accuracy: 0.8980 - val_loss: 0.3053 - val_accuracy: 0.8888\n",
      "Epoch 7/20\n",
      "1719/1719 [==============================] - 18s 10ms/step - loss: 0.2611 - accuracy: 0.9015 - val_loss: 0.2915 - val_accuracy: 0.8972\n",
      "Epoch 8/20\n",
      "1719/1719 [==============================] - 17s 10ms/step - loss: 0.2484 - accuracy: 0.9072 - val_loss: 0.3269 - val_accuracy: 0.8810\n",
      "Epoch 9/20\n",
      "1719/1719 [==============================] - 21s 12ms/step - loss: 0.2402 - accuracy: 0.9092 - val_loss: 0.3240 - val_accuracy: 0.8904\n",
      "Epoch 10/20\n",
      "1719/1719 [==============================] - 18s 11ms/step - loss: 0.2302 - accuracy: 0.9133 - val_loss: 0.3142 - val_accuracy: 0.8860\n",
      "Epoch 11/20\n",
      "1719/1719 [==============================] - 19s 11ms/step - loss: 0.2197 - accuracy: 0.9176 - val_loss: 0.2989 - val_accuracy: 0.8996\n",
      "Epoch 12/20\n",
      "1719/1719 [==============================] - 16s 9ms/step - loss: 0.2124 - accuracy: 0.9183 - val_loss: 0.3098 - val_accuracy: 0.8986\n",
      "Epoch 13/20\n",
      "1719/1719 [==============================] - 17s 10ms/step - loss: 0.2045 - accuracy: 0.9213 - val_loss: 0.3292 - val_accuracy: 0.8928\n",
      "Epoch 14/20\n",
      "1719/1719 [==============================] - 20s 11ms/step - loss: 0.2015 - accuracy: 0.9228 - val_loss: 0.3595 - val_accuracy: 0.8858\n",
      "Epoch 15/20\n",
      "1719/1719 [==============================] - 17s 10ms/step - loss: 0.1944 - accuracy: 0.9253 - val_loss: 0.3398 - val_accuracy: 0.8970\n",
      "Epoch 16/20\n",
      "1719/1719 [==============================] - 15s 9ms/step - loss: 0.1842 - accuracy: 0.9281 - val_loss: 0.3313 - val_accuracy: 0.9016\n",
      "Epoch 17/20\n",
      "1719/1719 [==============================] - 14s 8ms/step - loss: 0.1834 - accuracy: 0.9302 - val_loss: 0.3414 - val_accuracy: 0.8988\n",
      "Epoch 18/20\n",
      "1719/1719 [==============================] - 16s 9ms/step - loss: 0.1760 - accuracy: 0.9322 - val_loss: 0.3385 - val_accuracy: 0.8974\n",
      "Epoch 19/20\n",
      "1719/1719 [==============================] - 15s 9ms/step - loss: 0.1718 - accuracy: 0.9341 - val_loss: 0.3486 - val_accuracy: 0.9010\n",
      "Epoch 20/20\n",
      "1719/1719 [==============================] - 18s 10ms/step - loss: 0.1675 - accuracy: 0.9353 - val_loss: 0.3834 - val_accuracy: 0.8990\n"
     ]
    }
   ],
   "source": [
    "model2.compile(loss = 'sparse_categorical_crossentropy',\n",
    "               optimizer = 'adam',\n",
    "               metrics = ['accuracy'])\n",
    "history2 = model2.fit(xtrain, ytrain, epochs = 20, validation_data = (xvalid, yvalid))"
   ]
  },
  {
   "cell_type": "markdown",
   "id": "1bd903ba-4eaa-4368-b8db-0ac4abe65561",
   "metadata": {},
   "source": [
    "<h3>Models Evaluation</h3>"
   ]
  },
  {
   "cell_type": "code",
   "execution_count": 12,
   "id": "c637f088-0934-4b62-808b-2ee1d97784ff",
   "metadata": {},
   "outputs": [
    {
     "name": "stdout",
     "output_type": "stream",
     "text": [
      "dict_keys(['loss', 'accuracy', 'val_loss', 'val_accuracy'])\n"
     ]
    }
   ],
   "source": [
    "print(history.history.keys())"
   ]
  },
  {
   "cell_type": "code",
   "execution_count": 14,
   "id": "777456ca-4520-40b2-b357-237e7edca4b3",
   "metadata": {},
   "outputs": [
    {
     "data": {
      "image/png": "[encoded data removed]",
      "text/plain": [
       "<Figure size 640x480 with 2 Axes>"
      ]
     },
     "metadata": {},
     "output_type": "display_data"
    }
   ],
   "source": [
    "plt.subplot(1,2,1)\n",
    "plt.plot(history.history['accuracy'])\n",
    "plt.plot(history.history['val_accuracy'])\n",
    "plt.title('Model1 Accuracy')\n",
    "plt.ylabel('accuracy')\n",
    "plt.xlabel('epoch')\n",
    "plt.legend(['train', 'test'], loc = 'upper left')\n",
    "\n",
    "plt.subplot(1,2,2)\n",
    "plt.plot(history2.history['accuracy'])\n",
    "plt.plot(history2.history['val_accuracy'])\n",
    "plt.title('Model2 Accuracy')\n",
    "plt.ylabel('accuracy')\n",
    "plt.xlabel('epoch')\n",
    "plt.legend(['train', 'test'], loc = 'upper left')\n",
    "\n",
    "plt.show()"
   ]
  },
  {
   "cell_type": "code",
   "execution_count": 15,
   "id": "2c79ab51-e57d-4bba-9b45-1aaa126734e5",
   "metadata": {},
   "outputs": [
    {
     "data": {
      "image/png": "[encoded data removed]",
      "text/plain": [
       "<Figure size 640x480 with 2 Axes>"
      ]
     },
     "metadata": {},
     "output_type": "display_data"
    }
   ],
   "source": [
    "plt.subplot(1,2,1)\n",
    "plt.plot(history.history['loss'])\n",
    "plt.plot(history.history['val_loss'])\n",
    "plt.title('Model1 Loss')\n",
    "plt.ylabel('loss')\n",
    "plt.xlabel('epoch')\n",
    "plt.legend(['train', 'test'], loc = 'upper left')\n",
    "\n",
    "plt.subplot(1,2,2)\n",
    "plt.plot(history2.history['loss'])\n",
    "plt.plot(history2.history['val_loss'])\n",
    "plt.title('Model2 Loss')\n",
    "plt.ylabel('loss')\n",
    "plt.xlabel('epoch')\n",
    "plt.legend(['train', 'test'], loc = 'upper left')\n",
    "\n",
    "plt.show()"
   ]
  },
  {
   "cell_type": "markdown",
   "id": "93f6dd2a-3060-48a4-9c7a-7aa1c93ed156",
   "metadata": {},
   "source": [
    "<h3>Model 1 Evaluation</h3>"
   ]
  },
  {
   "cell_type": "code",
   "execution_count": 17,
   "id": "ff0f8f86-f516-488f-8452-76f93c9f3108",
   "metadata": {},
   "outputs": [
    {
     "name": "stdout",
     "output_type": "stream",
     "text": [
      "Train Accuracy :  0.9135090708732605\n",
      "Test Accuracy :  0.8166999816894531\n"
     ]
    }
   ],
   "source": [
    "_, train_acc = model1.evaluate(xtrain, ytrain, verbose = 0)\n",
    "_, test_acc = model1.evaluate(xtest, ytest, verbose = 0)\n",
    "print(\"Train Accuracy : \", train_acc)\n",
    "print(\"Test Accuracy : \", test_acc)"
   ]
  },
  {
   "cell_type": "markdown",
   "id": "3832880b-7f3e-47fa-9fa5-47a8621c8d88",
   "metadata": {},
   "source": [
    "<h3>Model 2 Evaluation</h3>"
   ]
  },
  {
   "cell_type": "code",
   "execution_count": 18,
   "id": "4912ccf2-b46e-4e61-a994-3ab5af493364",
   "metadata": {},
   "outputs": [
    {
     "name": "stdout",
     "output_type": "stream",
     "text": [
      "Train Accuracy :  0.9420545697212219\n",
      "Test Accuracy :  0.8781999945640564\n"
     ]
    }
   ],
   "source": [
    "_, train_acc = model2.evaluate(xtrain, ytrain, verbose = 0)\n",
    "_, test_acc = model2.evaluate(xtest, ytest, verbose = 0)\n",
    "print(\"Train Accuracy : \", train_acc)\n",
    "print(\"Test Accuracy : \", test_acc)"
   ]
  },
  {
   "cell_type": "markdown",
   "id": "27cd7ad8-fc62-490d-99af-a530ef1b3c94",
   "metadata": {},
   "source": [
    ">Model 1 is appropriate but Model 2 is kindda overfit"
   ]
  },
  {
   "cell_type": "markdown",
   "id": "4142ce01-491a-4626-8e73-f567261e212f",
   "metadata": {},
   "source": [
    "<h3>Test data comparison</h3>"
   ]
  },
  {
   "cell_type": "code",
   "execution_count": 27,
   "id": "d8f4a4ca-6c66-48f3-a970-cf6e3c29fae0",
   "metadata": {},
   "outputs": [],
   "source": [
    "data = xtest[15:30]\n",
    "y_cat = ytest[15:30]"
   ]
  },
  {
   "cell_type": "code",
   "execution_count": 33,
   "id": "11a74d99-157f-497b-a22e-9971ef92cff5",
   "metadata": {},
   "outputs": [
    {
     "name": "stdout",
     "output_type": "stream",
     "text": [
      "313/313 [==============================] - 1s 3ms/step\n",
      "313/313 [==============================] - 1s 4ms/step\n"
     ]
    }
   ],
   "source": [
    "pred_1 = model1.predict(xtest)\n",
    "pred_2 = model2.predict(xtest)"
   ]
  },
  {
   "cell_type": "code",
   "execution_count": 34,
   "id": "16bdf7ef-9d3d-4397-bf9f-b1ff2e5c0596",
   "metadata": {},
   "outputs": [],
   "source": [
    "classes_1 = np.argmax(pred_1, axis = 1)\n",
    "classes_2 = np.argmax(pred_2, axis = 1)"
   ]
  },
  {
   "cell_type": "code",
   "execution_count": 24,
   "id": "f3c20ece-816b-4cec-af95-c2b0d1590907",
   "metadata": {},
   "outputs": [],
   "source": [
    "import pandas as pd"
   ]
  },
  {
   "cell_type": "code",
   "execution_count": 41,
   "id": "eedfa0aa-07e1-44d1-8182-764f7f45cebd",
   "metadata": {},
   "outputs": [],
   "source": [
    "actual = np.array([])\n",
    "filter_1 = np.array([])\n",
    "filter_2 = np.array([])\n",
    "for i in range(len(xtest)):\n",
    "    if classes_1[i] != classes_2[i]:\n",
    "        actual = np.append(actual, ytest[i])\n",
    "        filter_1 = np.append(filter_1,classes_1[i])\n",
    "        filter_2 = np.append(filter_2,classes_2[i])        "
   ]
  },
  {
   "cell_type": "code",
   "execution_count": 43,
   "id": "a59b5a7a-74bc-492d-815c-f544b01830d0",
   "metadata": {},
   "outputs": [],
   "source": [
    "com = pd.DataFrame({\n",
    "    'Actual Label' : actual,\n",
    "    'Model1 Pred' : filter_1,\n",
    "    'Model2 Pred' : filter_2\n",
    "})"
   ]
  },
  {
   "cell_type": "code",
   "execution_count": 46,
   "id": "54f8971a-f162-41bb-986e-992eefbda0de",
   "metadata": {},
   "outputs": [
    {
     "data": {
      "text/html": [
       "<div>\n",
       "<style scoped>\n",
       "    .dataframe tbody tr th:only-of-type {\n",
       "        vertical-align: middle;\n",
       "    }\n",
       "\n",
       "    .dataframe tbody tr th {\n",
       "        vertical-align: top;\n",
       "    }\n",
       "\n",
       "    .dataframe thead th {\n",
       "        text-align: right;\n",
       "    }\n",
       "</style>\n",
       "<table border=\"1\" class=\"dataframe\">\n",
       "  <thead>\n",
       "    <tr style=\"text-align: right;\">\n",
       "      <th></th>\n",
       "      <th>Actual Label</th>\n",
       "      <th>Model1 Pred</th>\n",
       "      <th>Model2 Pred</th>\n",
       "    </tr>\n",
       "  </thead>\n",
       "  <tbody>\n",
       "    <tr>\n",
       "      <th>0</th>\n",
       "      <td>6.0</td>\n",
       "      <td>4.0</td>\n",
       "      <td>6.0</td>\n",
       "    </tr>\n",
       "    <tr>\n",
       "      <th>1</th>\n",
       "      <td>6.0</td>\n",
       "      <td>4.0</td>\n",
       "      <td>6.0</td>\n",
       "    </tr>\n",
       "    <tr>\n",
       "      <th>2</th>\n",
       "      <td>3.0</td>\n",
       "      <td>4.0</td>\n",
       "      <td>3.0</td>\n",
       "    </tr>\n",
       "    <tr>\n",
       "      <th>3</th>\n",
       "      <td>3.0</td>\n",
       "      <td>0.0</td>\n",
       "      <td>6.0</td>\n",
       "    </tr>\n",
       "    <tr>\n",
       "      <th>4</th>\n",
       "      <td>7.0</td>\n",
       "      <td>9.0</td>\n",
       "      <td>7.0</td>\n",
       "    </tr>\n",
       "    <tr>\n",
       "      <th>5</th>\n",
       "      <td>6.0</td>\n",
       "      <td>4.0</td>\n",
       "      <td>6.0</td>\n",
       "    </tr>\n",
       "    <tr>\n",
       "      <th>6</th>\n",
       "      <td>7.0</td>\n",
       "      <td>9.0</td>\n",
       "      <td>7.0</td>\n",
       "    </tr>\n",
       "    <tr>\n",
       "      <th>7</th>\n",
       "      <td>2.0</td>\n",
       "      <td>2.0</td>\n",
       "      <td>4.0</td>\n",
       "    </tr>\n",
       "    <tr>\n",
       "      <th>8</th>\n",
       "      <td>2.0</td>\n",
       "      <td>0.0</td>\n",
       "      <td>4.0</td>\n",
       "    </tr>\n",
       "    <tr>\n",
       "      <th>9</th>\n",
       "      <td>6.0</td>\n",
       "      <td>0.0</td>\n",
       "      <td>2.0</td>\n",
       "    </tr>\n",
       "  </tbody>\n",
       "</table>\n",
       "</div>"
      ],
      "text/plain": [
       "   Actual Label  Model1 Pred  Model2 Pred\n",
       "0           6.0          4.0          6.0\n",
       "1           6.0          4.0          6.0\n",
       "2           3.0          4.0          3.0\n",
       "3           3.0          0.0          6.0\n",
       "4           7.0          9.0          7.0\n",
       "5           6.0          4.0          6.0\n",
       "6           7.0          9.0          7.0\n",
       "7           2.0          2.0          4.0\n",
       "8           2.0          0.0          4.0\n",
       "9           6.0          0.0          2.0"
      ]
     },
     "execution_count": 46,
     "metadata": {},
     "output_type": "execute_result"
    }
   ],
   "source": [
    "com.head(10)"
   ]
  },
  {
   "cell_type": "code",
   "execution_count": null,
   "id": "72651f0d-29da-407b-ac49-4dfce403ad18",
   "metadata": {},
   "outputs": [],
   "source": []
  }
 ],
 "metadata": {
  "kernelspec": {
   "display_name": "Python 3 (ipykernel)",
   "language": "python",
   "name": "python3"
  },
  "language_info": {
   "codemirror_mode": {
    "name": "ipython",
    "version": 3
   },
   "file_extension": ".py",
   "mimetype": "text/x-python",
   "name": "python",
   "nbconvert_exporter": "python",
   "pygments_lexer": "ipython3",
   "version": "3.8.10"
  }
 },
 "nbformat": 4,
 "nbformat_minor": 5
}
