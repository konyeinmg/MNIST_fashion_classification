{
 "cells": [
  {
   "cell_type": "code",
   "execution_count": 1,
   "id": "16729408-5d0e-47b4-b0c2-bebfb4bc309b",
   "metadata": {},
   "outputs": [
    {
     "name": "stderr",
     "output_type": "stream",
     "text": [
      "2023-10-16 17:59:35.967010: I tensorflow/tsl/cuda/cudart_stub.cc:28] Could not find cuda drivers on your machine, GPU will not be used.\n",
      "2023-10-16 17:59:36.049310: I tensorflow/tsl/cuda/cudart_stub.cc:28] Could not find cuda drivers on your machine, GPU will not be used.\n",
      "2023-10-16 17:59:36.050927: I tensorflow/core/platform/cpu_feature_guard.cc:182] This TensorFlow binary is optimized to use available CPU instructions in performance-critical operations.\n",
      "To enable the following instructions: AVX2 FMA, in other operations, rebuild TensorFlow with the appropriate compiler flags.\n",
      "2023-10-16 17:59:37.719880: W tensorflow/compiler/tf2tensorrt/utils/py_utils.cc:38] TF-TRT Warning: Could not find TensorRT\n"
     ]
    }
   ],
   "source": [
    "import tensorflow as tf\n",
    "from tensorflow import keras\n",
    "import numpy as np\n",
    "import matplotlib.pyplot as plt"
   ]
  },
  {
   "cell_type": "code",
   "execution_count": 2,
   "id": "fc70451a-a4d1-4331-80d5-2675fd63930d",
   "metadata": {},
   "outputs": [
    {
     "name": "stdout",
     "output_type": "stream",
     "text": [
      "Downloading data from https://storage.googleapis.com/tensorflow/tf-keras-datasets/train-labels-idx1-ubyte.gz\n",
      "29515/29515 [==============================] - 0s 3us/step\n",
      "Downloading data from https://storage.googleapis.com/tensorflow/tf-keras-datasets/train-images-idx3-ubyte.gz\n",
      "26421880/26421880 [==============================] - 25s 1us/step\n",
      "Downloading data from https://storage.googleapis.com/tensorflow/tf-keras-datasets/t10k-labels-idx1-ubyte.gz\n",
      "5148/5148 [==============================] - 0s 0us/step\n",
      "Downloading data from https://storage.googleapis.com/tensorflow/tf-keras-datasets/t10k-images-idx3-ubyte.gz\n",
      "4422102/4422102 [==============================] - 4s 1us/step\n"
     ]
    }
   ],
   "source": [
    "fashion = keras.datasets.fashion_mnist\n",
    "(xtrain, ytrain), (xtest, ytest) = fashion.load_data()"
   ]
  },
  {
   "cell_type": "markdown",
   "id": "c52c7896-d9e2-48fd-8e8a-113574b02ad9",
   "metadata": {},
   "source": [
    "<h3>Labels</h3>\n",
    "0 T-shirt/top<br/>\n",
    "1 Trouser<br/>\n",
    "2 Pullover<br/>\n",
    "3 Dress<br/>\n",
    "4 Coat<br/>\n",
    "5 Sandal<br/>\n",
    "6 Shirt<br/>\n",
    "7 Sneaker<br/>\n",
    "8 Bag<br/>\n",
    "9 Ankle boot"
   ]
  },
  {
   "cell_type": "code",
   "execution_count": 5,
   "id": "696832e9-150d-440f-92f0-75c0618faf8c",
   "metadata": {},
   "outputs": [
    {
     "name": "stdout",
     "output_type": "stream",
     "text": [
      "Image label :  5\n"
     ]
    },
    {
     "data": {
      "text/plain": [
       "<matplotlib.image.AxesImage at 0x7f0471767d60>"
      ]
     },
     "execution_count": 5,
     "metadata": {},
     "output_type": "execute_result"
    },
    {
     "data": {
      "image/png": "[encoded data removed]",
      "text/plain": [
       "<Figure size 640x480 with 1 Axes>"
      ]
     },
     "metadata": {},
     "output_type": "display_data"
    }
   ],
   "source": [
    "index = 8\n",
    "image = xtrain[index]\n",
    "print('Image label : ', ytrain[index])\n",
    "plt.imshow(image)"
   ]
  },
  {
   "cell_type": "code",
   "execution_count": 7,
   "id": "da886661-e9ce-4243-afc4-860da0f9af82",
   "metadata": {},
   "outputs": [
    {
     "name": "stdout",
     "output_type": "stream",
     "text": [
      "(60000, 28, 28)\n",
      "(10000, 28, 28)\n"
     ]
    }
   ],
   "source": [
    "print(xtrain.shape)\n",
    "print(xtest.shape)"
   ]
  },
  {
   "cell_type": "markdown",
   "id": "2630efd5-f71a-48a3-b934-f2eaa1b39e43",
   "metadata": {},
   "source": [
    "<h3>Models</h3>"
   ]
  },
  {
   "cell_type": "code",
   "execution_count": 8,
   "id": "e42596d3-807b-46b2-9ae0-634db215dab1",
   "metadata": {},
   "outputs": [
    {
     "name": "stdout",
     "output_type": "stream",
     "text": [
      "Model: \"sequential\"\n",
      "_________________________________________________________________\n",
      " Layer (type)                Output Shape              Param #   \n",
      "=================================================================\n",
      " flatten (Flatten)           (None, 784)               0         \n",
      "                                                                 \n",
      " dense (Dense)               (None, 300)               235500    \n",
      "                                                                 \n",
      " dense_1 (Dense)             (None, 100)               30100     \n",
      "                                                                 \n",
      " dense_2 (Dense)             (None, 10)                1010      \n",
      "                                                                 \n",
      "=================================================================\n",
      "Total params: 266610 (1.02 MB)\n",
      "Trainable params: 266610 (1.02 MB)\n",
      "Non-trainable params: 0 (0.00 Byte)\n",
      "_________________________________________________________________\n",
      "None\n"
     ]
    }
   ],
   "source": [
    "model1 = keras.models.Sequential([\n",
    "    keras.layers.Flatten(input_shape=[28,28]),\n",
    "    keras.layers.Dense(300, activation = 'relu'),\n",
    "    keras.layers.Dense(100, activation = 'relu'),\n",
    "    keras.layers.Dense(10, activation = 'softmax')\n",
    "])\n",
    "print(model1.summary())"
   ]
  },
  {
   "cell_type": "code",
   "execution_count": 9,
   "id": "54892f91-712a-41ea-8388-7c0d69d01f0c",
   "metadata": {},
   "outputs": [
    {
     "name": "stdout",
     "output_type": "stream",
     "text": [
      "Model: \"sequential_1\"\n",
      "_________________________________________________________________\n",
      " Layer (type)                Output Shape              Param #   \n",
      "=================================================================\n",
      " flatten_1 (Flatten)         (None, 784)               0         \n",
      "                                                                 \n",
      " dense_3 (Dense)             (None, 500)               392500    \n",
      "                                                                 \n",
      " dense_4 (Dense)             (None, 250)               125250    \n",
      "                                                                 \n",
      " dense_5 (Dense)             (None, 150)               37650     \n",
      "                                                                 \n",
      " dense_6 (Dense)             (None, 10)                1510      \n",
      "                                                                 \n",
      "=================================================================\n",
      "Total params: 556910 (2.12 MB)\n",
      "Trainable params: 556910 (2.12 MB)\n",
      "Non-trainable params: 0 (0.00 Byte)\n",
      "_________________________________________________________________\n",
      "None\n"
     ]
    }
   ],
   "source": [
    "model2 = keras.models.Sequential([\n",
    "    keras.layers.Flatten(input_shape = [28, 28]),\n",
    "    keras.layers.Dense(500, activation = 'relu'),\n",
    "    keras.layers.Dense(250, activation = 'relu'),\n",
    "    keras.layers.Dense(150, activation = 'relu'),\n",
    "    keras.layers.Dense(10, activation = 'softmax')\n",
    "])\n",
    "print(model2.summary())"
   ]
  },
  {
   "cell_type": "markdown",
   "id": "a3eb0378-95dc-47b0-bec2-7eae5f07746b",
   "metadata": {},
   "source": [
    "<h3>Validation and train</h3>"
   ]
  },
  {
   "cell_type": "code",
   "execution_count": null,
   "id": "926b036b-047f-4d94-9902-56ce847eace7",
   "metadata": {},
   "outputs": [],
   "source": [
    "xvalid, xtrain = xtrain[:5000]/255.0, xtrain[5000:]/255.0\n",
    "yvalid, ytrain = ytrain[:5000], ytrain[5000:]"
   ]
  },
  {
   "cell_type": "code",
   "execution_count": 12,
   "id": "19a4d579-c345-4089-9352-1b574c9c182f",
   "metadata": {},
   "outputs": [
    {
     "name": "stdout",
     "output_type": "stream",
     "text": [
      "Image label :  3\n"
     ]
    },
    {
     "data": {
      "text/plain": [
       "<matplotlib.image.AxesImage at 0x7f0476f0f460>"
      ]
     },
     "execution_count": 12,
     "metadata": {},
     "output_type": "execute_result"
    },
    {
     "data": {
      "image/png": "[encoded data removed]",
      "text/plain": [
       "<Figure size 640x480 with 1 Axes>"
      ]
     },
     "metadata": {},
     "output_type": "display_data"
    }
   ],
   "source": [
    "index = 8\n",
    "image = xtrain[index]\n",
    "print('Image label : ', ytrain[index])\n",
    "plt.imshow(image)"
   ]
  },
  {
   "cell_type": "markdown",
   "id": "83bbee44-e15a-41a0-8026-92dbb07fc269",
   "metadata": {},
   "source": [
    "<h3>Train Models</h3>"
   ]
  },
  {
   "cell_type": "code",
   "execution_count": 13,
   "id": "586adfb1-3bfe-4136-8976-73b95012dc6e",
   "metadata": {
    "scrolled": true
   },
   "outputs": [
    {
     "name": "stderr",
     "output_type": "stream",
     "text": [
      "2023-10-16 18:16:44.980147: W tensorflow/tsl/framework/cpu_allocator_impl.cc:83] Allocation of 172480000 exceeds 10% of free system memory.\n"
     ]
    },
    {
     "name": "stdout",
     "output_type": "stream",
     "text": [
      "Epoch 1/30\n",
      "1719/1719 [==============================] - 10s 5ms/step - loss: 0.7113 - accuracy: 0.7654 - val_loss: 0.5273 - val_accuracy: 0.8152\n",
      "Epoch 2/30\n",
      "1719/1719 [==============================] - 9s 5ms/step - loss: 0.4898 - accuracy: 0.8288 - val_loss: 0.4412 - val_accuracy: 0.8538\n",
      "Epoch 3/30\n",
      "1719/1719 [==============================] - 9s 5ms/step - loss: 0.4447 - accuracy: 0.8430 - val_loss: 0.4082 - val_accuracy: 0.8620\n",
      "Epoch 4/30\n",
      "1719/1719 [==============================] - 8s 5ms/step - loss: 0.4171 - accuracy: 0.8528 - val_loss: 0.3964 - val_accuracy: 0.8608\n",
      "Epoch 5/30\n",
      "1719/1719 [==============================] - 9s 5ms/step - loss: 0.3969 - accuracy: 0.8588 - val_loss: 0.4013 - val_accuracy: 0.8568\n",
      "Epoch 6/30\n",
      "1719/1719 [==============================] - 10s 6ms/step - loss: 0.3810 - accuracy: 0.8665 - val_loss: 0.3790 - val_accuracy: 0.8646\n",
      "Epoch 7/30\n",
      "1719/1719 [==============================] - 12s 7ms/step - loss: 0.3685 - accuracy: 0.8692 - val_loss: 0.3785 - val_accuracy: 0.8686\n",
      "Epoch 8/30\n",
      "1719/1719 [==============================] - 13s 7ms/step - loss: 0.3549 - accuracy: 0.8746 - val_loss: 0.3716 - val_accuracy: 0.8688\n",
      "Epoch 9/30\n",
      "1719/1719 [==============================] - 9s 5ms/step - loss: 0.3456 - accuracy: 0.8768 - val_loss: 0.3614 - val_accuracy: 0.8722\n",
      "Epoch 10/30\n",
      "1719/1719 [==============================] - 11s 7ms/step - loss: 0.3352 - accuracy: 0.8803 - val_loss: 0.3666 - val_accuracy: 0.8688\n",
      "Epoch 11/30\n",
      "1719/1719 [==============================] - 13s 7ms/step - loss: 0.3272 - accuracy: 0.8840 - val_loss: 0.3354 - val_accuracy: 0.8796\n",
      "Epoch 12/30\n",
      "1719/1719 [==============================] - 10s 6ms/step - loss: 0.3183 - accuracy: 0.8861 - val_loss: 0.3364 - val_accuracy: 0.8834\n",
      "Epoch 13/30\n",
      "1719/1719 [==============================] - 9s 5ms/step - loss: 0.3116 - accuracy: 0.8871 - val_loss: 0.3288 - val_accuracy: 0.8822\n",
      "Epoch 14/30\n",
      "1719/1719 [==============================] - 9s 5ms/step - loss: 0.3039 - accuracy: 0.8903 - val_loss: 0.3385 - val_accuracy: 0.8760\n",
      "Epoch 15/30\n",
      "1719/1719 [==============================] - 9s 5ms/step - loss: 0.2972 - accuracy: 0.8924 - val_loss: 0.3243 - val_accuracy: 0.8854\n",
      "Epoch 16/30\n",
      "1719/1719 [==============================] - 9s 5ms/step - loss: 0.2909 - accuracy: 0.8945 - val_loss: 0.3234 - val_accuracy: 0.8860\n",
      "Epoch 17/30\n",
      "1719/1719 [==============================] - 9s 5ms/step - loss: 0.2852 - accuracy: 0.8971 - val_loss: 0.3181 - val_accuracy: 0.8846\n",
      "Epoch 18/30\n",
      "1719/1719 [==============================] - 9s 5ms/step - loss: 0.2802 - accuracy: 0.8983 - val_loss: 0.3392 - val_accuracy: 0.8774\n",
      "Epoch 19/30\n",
      "1719/1719 [==============================] - 9s 5ms/step - loss: 0.2738 - accuracy: 0.9015 - val_loss: 0.3191 - val_accuracy: 0.8858\n",
      "Epoch 20/30\n",
      "1719/1719 [==============================] - 8s 5ms/step - loss: 0.2682 - accuracy: 0.9035 - val_loss: 0.3130 - val_accuracy: 0.8882\n",
      "Epoch 21/30\n",
      "1719/1719 [==============================] - 10s 6ms/step - loss: 0.2642 - accuracy: 0.9038 - val_loss: 0.3079 - val_accuracy: 0.8920\n",
      "Epoch 22/30\n",
      "1719/1719 [==============================] - 9s 5ms/step - loss: 0.2590 - accuracy: 0.9066 - val_loss: 0.3144 - val_accuracy: 0.8864\n",
      "Epoch 23/30\n",
      "1719/1719 [==============================] - 9s 5ms/step - loss: 0.2542 - accuracy: 0.9089 - val_loss: 0.3383 - val_accuracy: 0.8836\n",
      "Epoch 24/30\n",
      "1719/1719 [==============================] - 9s 5ms/step - loss: 0.2492 - accuracy: 0.9099 - val_loss: 0.3226 - val_accuracy: 0.8874\n",
      "Epoch 25/30\n",
      "1719/1719 [==============================] - 9s 5ms/step - loss: 0.2454 - accuracy: 0.9117 - val_loss: 0.3073 - val_accuracy: 0.8918\n",
      "Epoch 26/30\n",
      "1719/1719 [==============================] - 9s 5ms/step - loss: 0.2412 - accuracy: 0.9135 - val_loss: 0.3113 - val_accuracy: 0.8910\n",
      "Epoch 27/30\n",
      "1719/1719 [==============================] - 9s 5ms/step - loss: 0.2374 - accuracy: 0.9143 - val_loss: 0.3038 - val_accuracy: 0.8906\n",
      "Epoch 28/30\n",
      "1719/1719 [==============================] - 9s 5ms/step - loss: 0.2328 - accuracy: 0.9160 - val_loss: 0.3117 - val_accuracy: 0.8912\n",
      "Epoch 29/30\n",
      "1719/1719 [==============================] - 9s 5ms/step - loss: 0.2293 - accuracy: 0.9171 - val_loss: 0.3250 - val_accuracy: 0.8820\n",
      "Epoch 30/30\n",
      "1719/1719 [==============================] - 12s 7ms/step - loss: 0.2250 - accuracy: 0.9185 - val_loss: 0.3038 - val_accuracy: 0.8948\n"
     ]
    }
   ],
   "source": [
    "model1.compile(loss = 'sparse_categorical_crossentropy',\n",
    "               optimizer = 'sgd',\n",
    "               metrics = ['accuracy'])\n",
    "history = model1.fit(xtrain, ytrain, epochs = 30, validation_data = (xvalid, yvalid))"
   ]
  },
  {
   "cell_type": "code",
   "execution_count": 14,
   "id": "1a66fd7e-8e4d-4a93-99bb-2cbd201747dc",
   "metadata": {
    "scrolled": true
   },
   "outputs": [
    {
     "name": "stdout",
     "output_type": "stream",
     "text": [
      "Epoch 1/30\n"
     ]
    },
    {
     "name": "stderr",
     "output_type": "stream",
     "text": [
      "2023-10-16 18:22:50.068469: W tensorflow/tsl/framework/cpu_allocator_impl.cc:83] Allocation of 172480000 exceeds 10% of free system memory.\n"
     ]
    },
    {
     "name": "stdout",
     "output_type": "stream",
     "text": [
      "1719/1719 [==============================] - 20s 11ms/step - loss: 0.4866 - accuracy: 0.8221 - val_loss: 0.4211 - val_accuracy: 0.8498\n",
      "Epoch 2/30\n",
      "1719/1719 [==============================] - 19s 11ms/step - loss: 0.3718 - accuracy: 0.8639 - val_loss: 0.4121 - val_accuracy: 0.8498\n",
      "Epoch 3/30\n",
      "1719/1719 [==============================] - 19s 11ms/step - loss: 0.3338 - accuracy: 0.8751 - val_loss: 0.3351 - val_accuracy: 0.8786\n",
      "Epoch 4/30\n",
      "1719/1719 [==============================] - 17s 10ms/step - loss: 0.3084 - accuracy: 0.8847 - val_loss: 0.3101 - val_accuracy: 0.8872\n",
      "Epoch 5/30\n",
      "1719/1719 [==============================] - 19s 11ms/step - loss: 0.2878 - accuracy: 0.8932 - val_loss: 0.3274 - val_accuracy: 0.8822\n",
      "Epoch 6/30\n",
      "1719/1719 [==============================] - 23s 13ms/step - loss: 0.2719 - accuracy: 0.8973 - val_loss: 0.3312 - val_accuracy: 0.8800\n",
      "Epoch 7/30\n",
      "1719/1719 [==============================] - 17s 10ms/step - loss: 0.2570 - accuracy: 0.9023 - val_loss: 0.3151 - val_accuracy: 0.8854\n",
      "Epoch 8/30\n",
      "1719/1719 [==============================] - 15s 9ms/step - loss: 0.2492 - accuracy: 0.9053 - val_loss: 0.3020 - val_accuracy: 0.8946\n",
      "Epoch 9/30\n",
      "1719/1719 [==============================] - 15s 9ms/step - loss: 0.2371 - accuracy: 0.9099 - val_loss: 0.3163 - val_accuracy: 0.8866\n",
      "Epoch 10/30\n",
      "1719/1719 [==============================] - 16s 9ms/step - loss: 0.2270 - accuracy: 0.9132 - val_loss: 0.3043 - val_accuracy: 0.8972\n",
      "Epoch 11/30\n",
      "1719/1719 [==============================] - 17s 10ms/step - loss: 0.2220 - accuracy: 0.9135 - val_loss: 0.3099 - val_accuracy: 0.8990\n",
      "Epoch 12/30\n",
      "1719/1719 [==============================] - 14s 8ms/step - loss: 0.2120 - accuracy: 0.9189 - val_loss: 0.3116 - val_accuracy: 0.8956\n",
      "Epoch 13/30\n",
      "1719/1719 [==============================] - 16s 9ms/step - loss: 0.2062 - accuracy: 0.9212 - val_loss: 0.3093 - val_accuracy: 0.8960\n",
      "Epoch 14/30\n",
      "1719/1719 [==============================] - 16s 9ms/step - loss: 0.1983 - accuracy: 0.9243 - val_loss: 0.3391 - val_accuracy: 0.8912\n",
      "Epoch 15/30\n",
      "1719/1719 [==============================] - 14s 8ms/step - loss: 0.1922 - accuracy: 0.9272 - val_loss: 0.3194 - val_accuracy: 0.8928\n",
      "Epoch 16/30\n",
      "1719/1719 [==============================] - 13s 8ms/step - loss: 0.1840 - accuracy: 0.9306 - val_loss: 0.3230 - val_accuracy: 0.9002\n",
      "Epoch 17/30\n",
      "1719/1719 [==============================] - 15s 9ms/step - loss: 0.1825 - accuracy: 0.9300 - val_loss: 0.3390 - val_accuracy: 0.8926\n",
      "Epoch 18/30\n",
      "1719/1719 [==============================] - 15s 9ms/step - loss: 0.1743 - accuracy: 0.9332 - val_loss: 0.3418 - val_accuracy: 0.8978\n",
      "Epoch 19/30\n",
      "1719/1719 [==============================] - 16s 9ms/step - loss: 0.1708 - accuracy: 0.9349 - val_loss: 0.3509 - val_accuracy: 0.8946\n",
      "Epoch 20/30\n",
      "1719/1719 [==============================] - 16s 9ms/step - loss: 0.1691 - accuracy: 0.9360 - val_loss: 0.3412 - val_accuracy: 0.8964\n",
      "Epoch 21/30\n",
      "1719/1719 [==============================] - 15s 9ms/step - loss: 0.1622 - accuracy: 0.9377 - val_loss: 0.3982 - val_accuracy: 0.8968\n",
      "Epoch 22/30\n",
      "1719/1719 [==============================] - 14s 8ms/step - loss: 0.1621 - accuracy: 0.9379 - val_loss: 0.3607 - val_accuracy: 0.8988\n",
      "Epoch 23/30\n",
      "1719/1719 [==============================] - 15s 9ms/step - loss: 0.1530 - accuracy: 0.9403 - val_loss: 0.3811 - val_accuracy: 0.9024\n",
      "Epoch 24/30\n",
      "1719/1719 [==============================] - 15s 9ms/step - loss: 0.1487 - accuracy: 0.9426 - val_loss: 0.4153 - val_accuracy: 0.8986\n",
      "Epoch 25/30\n",
      "1719/1719 [==============================] - 16s 10ms/step - loss: 0.1455 - accuracy: 0.9438 - val_loss: 0.4239 - val_accuracy: 0.8902\n",
      "Epoch 26/30\n",
      "1719/1719 [==============================] - 16s 9ms/step - loss: 0.1463 - accuracy: 0.9440 - val_loss: 0.4866 - val_accuracy: 0.8922\n",
      "Epoch 27/30\n",
      "1719/1719 [==============================] - 16s 9ms/step - loss: 0.1407 - accuracy: 0.9458 - val_loss: 0.4171 - val_accuracy: 0.8986\n",
      "Epoch 28/30\n",
      "1719/1719 [==============================] - 16s 9ms/step - loss: 0.1409 - accuracy: 0.9458 - val_loss: 0.4105 - val_accuracy: 0.9018\n",
      "Epoch 29/30\n",
      "1719/1719 [==============================] - 16s 9ms/step - loss: 0.1348 - accuracy: 0.9481 - val_loss: 0.4427 - val_accuracy: 0.8962\n",
      "Epoch 30/30\n",
      "1719/1719 [==============================] - 16s 10ms/step - loss: 0.1319 - accuracy: 0.9496 - val_loss: 0.4677 - val_accuracy: 0.9010\n"
     ]
    }
   ],
   "source": [
    "model2.compile(loss = 'sparse_categorical_crossentropy',\n",
    "               optimizer = 'adam',\n",
    "               metrics = ['accuracy'])\n",
    "history = model2.fit(xtrain, ytrain, epochs = 30, validation_data = (xvalid, yvalid))"
   ]
  },
  {
   "cell_type": "code",
   "execution_count": null,
   "id": "fa31a4a9-c98f-4372-936e-1c596259315a",
   "metadata": {},
   "outputs": [],
   "source": []
  }
 ],
 "metadata": {
  "kernelspec": {
   "display_name": "Python 3 (ipykernel)",
   "language": "python",
   "name": "python3"
  },
  "language_info": {
   "codemirror_mode": {
    "name": "ipython",
    "version": 3
   },
   "file_extension": ".py",
   "mimetype": "text/x-python",
   "name": "python",
   "nbconvert_exporter": "python",
   "pygments_lexer": "ipython3",
   "version": "3.8.10"
  }
 },
 "nbformat": 4,
 "nbformat_minor": 5
}
